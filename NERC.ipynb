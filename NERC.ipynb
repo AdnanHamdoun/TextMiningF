{
 "cells": [
  {
   "cell_type": "markdown",
   "metadata": {
    "id": "oLb6WFkgN8m4"
   },
   "source": [
    "# **NERC:**"
   ]
  },
  {
   "cell_type": "code",
   "execution_count": 1,
   "metadata": {
    "id": "LgHQIPZOOBeX"
   },
   "outputs": [],
   "source": [
    "import pandas as pd\n",
    "import spacy\n",
    "from sklearn.metrics import classification_report\n",
    "from sklearn.preprocessing import LabelEncoder\n",
    "\n",
    "nlp = spacy.load('en_core_web_sm')\n",
    "\n",
    "df_sentences = pd.read_csv('sentiment-topic-test.tsv', sep='\\t', dtype={'sentence id': str})\n",
    "df_annotations = pd.read_csv('NER-test.tsv',\n",
    "    sep='\\t',\n",
    "    header=None,\n",
    "    names=['sentence_id', 'token_id', 'token', 'BIO_NER_tag'],\n",
    "    skiprows=1,\n",
    "    dtype={'sentence_id': str, 'token': str, 'BIO_NER_tag': str}\n",
    ")\n",
    "\n",
    "def assign_bio_tags(doc):\n",
    "    bio_tags = ['O'] * len(doc)\n",
    "    for ent in doc.ents:\n",
    "        bio_tags[ent.start] = f\"B-{ent.label_}\"\n",
    "        for i in range(ent.start + 1, ent.end):\n",
    "            bio_tags[i] = f\"I-{ent.label_}\"\n",
    "    return bio_tags\n",
    "\n",
    "df_sentences['spacy_bio_tags'] = df_sentences['text'].apply(lambda x: assign_bio_tags(nlp(x)))\n",
    "\n"
   ]
  },
  {
   "cell_type": "code",
   "execution_count": 2,
   "metadata": {
    "colab": {
     "base_uri": "https://localhost:8080/"
    },
    "id": "85cQhvwyuTb3",
    "outputId": "3c04a651-5a5d-43c9-a5ec-6f49b20b8cd9"
   },
   "outputs": [
    {
     "name": "stdout",
     "output_type": "stream",
     "text": [
      "               precision    recall  f1-score   support\n",
      "\n",
      "       B-DATE       1.00      1.00      1.00         1\n",
      "        B-GPE       0.00      0.00      0.00         0\n",
      "        B-LAW       0.00      0.00      0.00         0\n",
      "        B-ORG       1.00      0.67      0.80         3\n",
      "     B-PERSON       1.00      1.00      1.00         6\n",
      "B-WORK_OF_ART       1.00      0.50      0.67         4\n",
      "       I-DATE       0.25      1.00      0.40         1\n",
      "        I-LAW       0.00      0.00      0.00         0\n",
      "        I-ORG       1.00      0.33      0.50         6\n",
      "     I-PERSON       1.00      1.00      1.00         3\n",
      "I-WORK_OF_ART       1.00      0.67      0.80         9\n",
      "            O       0.96      0.98      0.97       160\n",
      "\n",
      "     accuracy                           0.93       193\n",
      "    macro avg       0.68      0.60      0.59       193\n",
      " weighted avg       0.96      0.93      0.94       193\n",
      "\n"
     ]
    }
   ],
   "source": [
    "predicted_tags_flat = [tag for sublist in df_sentences['spacy_bio_tags'] for tag in sublist]\n",
    "annotated_tags_flat = df_annotations['BIO_NER_tag'].tolist()\n",
    "length = min(len(predicted_tags_flat), len(annotated_tags_flat))\n",
    "predicted_tags_flat = predicted_tags_flat[:length]\n",
    "annotated_tags_flat = annotated_tags_flat[:length]\n",
    "le = LabelEncoder()\n",
    "\n",
    "le.fit(predicted_tags_flat + annotated_tags_flat)\n",
    "encoded_predicted = le.transform(predicted_tags_flat)\n",
    "encoded_annotated = le.transform(annotated_tags_flat)\n",
    "print(classification_report(encoded_annotated, encoded_predicted, target_names=le.classes_, zero_division=0))"
   ]
  },
  {
   "cell_type": "code",
   "execution_count": null,
   "metadata": {},
   "outputs": [],
   "source": []
  }
 ],
 "metadata": {
  "colab": {
   "provenance": []
  },
  "kernelspec": {
   "display_name": "Python 3 (ipykernel)",
   "language": "python",
   "name": "python3"
  },
  "language_info": {
   "codemirror_mode": {
    "name": "ipython",
    "version": 3
   },
   "file_extension": ".py",
   "mimetype": "text/x-python",
   "name": "python",
   "nbconvert_exporter": "python",
   "pygments_lexer": "ipython3",
   "version": "3.12.2"
  }
 },
 "nbformat": 4,
 "nbformat_minor": 4
}
